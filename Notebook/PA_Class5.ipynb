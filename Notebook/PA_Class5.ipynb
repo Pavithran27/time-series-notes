{
 "cells": [
  {
   "cell_type": "code",
   "execution_count": 40,
   "id": "52f8ddc3",
   "metadata": {},
   "outputs": [],
   "source": [
    "import sqlite3 as sql\n",
    "import pandas as pd\n",
    "import matplotlib.pyplot as plt\n",
    "import seaborn as sns\n",
    "import os\n",
    "from tqdm import tqdm #to check  progress bar\n",
    "import numpy as np\n",
    "\n",
    "from sklearn.linear_model import LinearRegression\n",
    "from sklearn.model_selection import train_test_split\n",
    "from sklearn.preprocessing import MinMaxScaler\n",
    "from sklearn.metrics import mean_absolute_error, mean_squared_error, r2_score\n",
    "from sklearn.linear_model import Lasso\n",
    "from sklearn.ensemble import RandomForestRegressor as rf_sk\n",
    "from xgboost import XGBRegressor\n",
    "from sklearn.model_selection import cross_val_score\n",
    "from sklearn.model_selection import RandomizedSearchCV\n",
    "from sklearn import tree\n",
    "from pyspark import SparkContext\n",
    "from pyspark.sql import SparkSession\n",
    "from pyspark.ml.feature import VectorAssembler\n",
    "import pyspark\n",
    "from pyspark.ml.regression import RandomForestRegressor as rf_sp\n",
    "from pyspark.ml import Pipeline\n",
    "from pyspark.ml.evaluation import RegressionEvaluator\n",
    "\n",
    "sns.set(rc={'figure.figsize': (10, 6)})\n",
    "sns.set_style('whitegrid')\n",
    "sns.set_palette('Set2')"
   ]
  },
  {
   "cell_type": "code",
   "execution_count": 39,
   "id": "ba628cce",
   "metadata": {},
   "outputs": [
    {
     "name": "stdout",
     "output_type": "stream",
     "text": [
      "Collecting xgboost\n",
      "  Downloading xgboost-1.6.1-py3-none-win_amd64.whl (125.4 MB)\n",
      "Requirement already satisfied: numpy in c:\\users\\test\\anaconda3\\lib\\site-packages (from xgboost) (1.18.5)\n",
      "Requirement already satisfied: scipy in c:\\users\\test\\anaconda3\\lib\\site-packages (from xgboost) (1.8.1)\n",
      "Installing collected packages: xgboost\n",
      "Successfully installed xgboost-1.6.1\n"
     ]
    }
   ],
   "source": [
    "!pip install xgboost"
   ]
  },
  {
   "cell_type": "code",
   "execution_count": 35,
   "id": "1ad29d8d",
   "metadata": {},
   "outputs": [],
   "source": [
    "path = 'C:\\\\Users\\Test\\Downloads\\SQL_Dataset'"
   ]
  },
  {
   "cell_type": "code",
   "execution_count": 36,
   "id": "3063a192",
   "metadata": {},
   "outputs": [
    {
     "data": {
      "text/plain": [
       "['C:\\\\Users\\\\Test\\\\Downloads\\\\SQL_Dataset/dailyActivity_merged.csv',\n",
       " 'C:\\\\Users\\\\Test\\\\Downloads\\\\SQL_Dataset/dailyCalories_merged.csv',\n",
       " 'C:\\\\Users\\\\Test\\\\Downloads\\\\SQL_Dataset/dailyIntensities_merged.csv',\n",
       " 'C:\\\\Users\\\\Test\\\\Downloads\\\\SQL_Dataset/dailySteps_merged.csv',\n",
       " 'C:\\\\Users\\\\Test\\\\Downloads\\\\SQL_Dataset/sleepDay_merged.csv',\n",
       " 'C:\\\\Users\\\\Test\\\\Downloads\\\\SQL_Dataset/weightLogInfo_merged.csv']"
      ]
     },
     "execution_count": 36,
     "metadata": {},
     "output_type": "execute_result"
    }
   ],
   "source": [
    "full_path_list = [ path + '/' + f for \\\n",
    "                 f in os.listdir(path) if os.path.isfile(os.path.join(path,f)) ]\n",
    "full_path_list"
   ]
  },
  {
   "cell_type": "code",
   "execution_count": 37,
   "id": "a85b4b12",
   "metadata": {},
   "outputs": [
    {
     "name": "stderr",
     "output_type": "stream",
     "text": [
      "[Loading Data...]: 100%|█████████████████████████████████████████████████████████████████| 6/6 [00:00<00:00, 48.18it/s]\n"
     ]
    }
   ],
   "source": [
    "con = sql.connect(\"fitbit.db\")\n",
    "cur = con.cursor()\n",
    "\n",
    "def get_table_name(full_path_list, i):\n",
    "    return full_path_list[i].split(\"/\")[-1].split('.')[0]\n",
    "\n",
    "pbar = tqdm(total=len(full_path_list), desc='[Loading Data...]')\n",
    "for i in range(0,len(full_path_list)):\n",
    "    pd.read_csv(full_path_list[i]).to_sql(get_table_name(full_path_list, i), con, if_exists='append', index=False)\n",
    "    pbar.update(1)\n",
    "pbar.close()"
   ]
  },
  {
   "cell_type": "code",
   "execution_count": 38,
   "id": "4aa69978",
   "metadata": {},
   "outputs": [
    {
     "data": {
      "text/html": [
       "<div>\n",
       "<style scoped>\n",
       "    .dataframe tbody tr th:only-of-type {\n",
       "        vertical-align: middle;\n",
       "    }\n",
       "\n",
       "    .dataframe tbody tr th {\n",
       "        vertical-align: top;\n",
       "    }\n",
       "\n",
       "    .dataframe thead th {\n",
       "        text-align: right;\n",
       "    }\n",
       "</style>\n",
       "<table border=\"1\" class=\"dataframe\">\n",
       "  <thead>\n",
       "    <tr style=\"text-align: right;\">\n",
       "      <th></th>\n",
       "      <th>Id</th>\n",
       "      <th>ActivityDate</th>\n",
       "      <th>TotalSteps</th>\n",
       "      <th>TotalDistance</th>\n",
       "      <th>TrackerDistance</th>\n",
       "      <th>LoggedActivitiesDistance</th>\n",
       "      <th>VeryActiveDistance</th>\n",
       "      <th>ModeratelyActiveDistance</th>\n",
       "      <th>LightActiveDistance</th>\n",
       "      <th>SedentaryActiveDistance</th>\n",
       "      <th>VeryActiveMinutes</th>\n",
       "      <th>FairlyActiveMinutes</th>\n",
       "      <th>LightlyActiveMinutes</th>\n",
       "      <th>SedentaryMinutes</th>\n",
       "      <th>Calories</th>\n",
       "    </tr>\n",
       "  </thead>\n",
       "  <tbody>\n",
       "    <tr>\n",
       "      <th>0</th>\n",
       "      <td>1503960366</td>\n",
       "      <td>4/12/2016</td>\n",
       "      <td>13162</td>\n",
       "      <td>8.50</td>\n",
       "      <td>8.50</td>\n",
       "      <td>0.0</td>\n",
       "      <td>1.88</td>\n",
       "      <td>0.55</td>\n",
       "      <td>6.06</td>\n",
       "      <td>0.0</td>\n",
       "      <td>25</td>\n",
       "      <td>13</td>\n",
       "      <td>328</td>\n",
       "      <td>728</td>\n",
       "      <td>1985</td>\n",
       "    </tr>\n",
       "    <tr>\n",
       "      <th>1</th>\n",
       "      <td>1503960366</td>\n",
       "      <td>4/13/2016</td>\n",
       "      <td>10735</td>\n",
       "      <td>6.97</td>\n",
       "      <td>6.97</td>\n",
       "      <td>0.0</td>\n",
       "      <td>1.57</td>\n",
       "      <td>0.69</td>\n",
       "      <td>4.71</td>\n",
       "      <td>0.0</td>\n",
       "      <td>21</td>\n",
       "      <td>19</td>\n",
       "      <td>217</td>\n",
       "      <td>776</td>\n",
       "      <td>1797</td>\n",
       "    </tr>\n",
       "    <tr>\n",
       "      <th>2</th>\n",
       "      <td>1503960366</td>\n",
       "      <td>4/14/2016</td>\n",
       "      <td>10460</td>\n",
       "      <td>6.74</td>\n",
       "      <td>6.74</td>\n",
       "      <td>0.0</td>\n",
       "      <td>2.44</td>\n",
       "      <td>0.40</td>\n",
       "      <td>3.91</td>\n",
       "      <td>0.0</td>\n",
       "      <td>30</td>\n",
       "      <td>11</td>\n",
       "      <td>181</td>\n",
       "      <td>1218</td>\n",
       "      <td>1776</td>\n",
       "    </tr>\n",
       "    <tr>\n",
       "      <th>3</th>\n",
       "      <td>1503960366</td>\n",
       "      <td>4/15/2016</td>\n",
       "      <td>9762</td>\n",
       "      <td>6.28</td>\n",
       "      <td>6.28</td>\n",
       "      <td>0.0</td>\n",
       "      <td>2.14</td>\n",
       "      <td>1.26</td>\n",
       "      <td>2.83</td>\n",
       "      <td>0.0</td>\n",
       "      <td>29</td>\n",
       "      <td>34</td>\n",
       "      <td>209</td>\n",
       "      <td>726</td>\n",
       "      <td>1745</td>\n",
       "    </tr>\n",
       "    <tr>\n",
       "      <th>4</th>\n",
       "      <td>1503960366</td>\n",
       "      <td>4/16/2016</td>\n",
       "      <td>12669</td>\n",
       "      <td>8.16</td>\n",
       "      <td>8.16</td>\n",
       "      <td>0.0</td>\n",
       "      <td>2.71</td>\n",
       "      <td>0.41</td>\n",
       "      <td>5.04</td>\n",
       "      <td>0.0</td>\n",
       "      <td>36</td>\n",
       "      <td>10</td>\n",
       "      <td>221</td>\n",
       "      <td>773</td>\n",
       "      <td>1863</td>\n",
       "    </tr>\n",
       "  </tbody>\n",
       "</table>\n",
       "</div>"
      ],
      "text/plain": [
       "           Id ActivityDate  TotalSteps  TotalDistance  TrackerDistance  \\\n",
       "0  1503960366    4/12/2016       13162           8.50             8.50   \n",
       "1  1503960366    4/13/2016       10735           6.97             6.97   \n",
       "2  1503960366    4/14/2016       10460           6.74             6.74   \n",
       "3  1503960366    4/15/2016        9762           6.28             6.28   \n",
       "4  1503960366    4/16/2016       12669           8.16             8.16   \n",
       "\n",
       "   LoggedActivitiesDistance  VeryActiveDistance  ModeratelyActiveDistance  \\\n",
       "0                       0.0                1.88                      0.55   \n",
       "1                       0.0                1.57                      0.69   \n",
       "2                       0.0                2.44                      0.40   \n",
       "3                       0.0                2.14                      1.26   \n",
       "4                       0.0                2.71                      0.41   \n",
       "\n",
       "   LightActiveDistance  SedentaryActiveDistance  VeryActiveMinutes  \\\n",
       "0                 6.06                      0.0                 25   \n",
       "1                 4.71                      0.0                 21   \n",
       "2                 3.91                      0.0                 30   \n",
       "3                 2.83                      0.0                 29   \n",
       "4                 5.04                      0.0                 36   \n",
       "\n",
       "   FairlyActiveMinutes  LightlyActiveMinutes  SedentaryMinutes  Calories  \n",
       "0                   13                   328               728      1985  \n",
       "1                   19                   217               776      1797  \n",
       "2                   11                   181              1218      1776  \n",
       "3                   34                   209               726      1745  \n",
       "4                   10                   221               773      1863  "
      ]
     },
     "execution_count": 38,
     "metadata": {},
     "output_type": "execute_result"
    }
   ],
   "source": [
    "# simple sql query test\n",
    "df = pd.read_sql(f'SELECT * FROM {get_table_name(full_path_list, 0)}', con)\n",
    "\n",
    "df.head()"
   ]
  },
  {
   "cell_type": "code",
   "execution_count": 41,
   "id": "74c9f40f",
   "metadata": {},
   "outputs": [
    {
     "name": "stdout",
     "output_type": "stream",
     "text": [
      "67\n"
     ]
    },
    {
     "data": {
      "text/html": [
       "<div>\n",
       "<style scoped>\n",
       "    .dataframe tbody tr th:only-of-type {\n",
       "        vertical-align: middle;\n",
       "    }\n",
       "\n",
       "    .dataframe tbody tr th {\n",
       "        vertical-align: top;\n",
       "    }\n",
       "\n",
       "    .dataframe thead th {\n",
       "        text-align: right;\n",
       "    }\n",
       "</style>\n",
       "<table border=\"1\" class=\"dataframe\">\n",
       "  <thead>\n",
       "    <tr style=\"text-align: right;\">\n",
       "      <th></th>\n",
       "      <th>Id</th>\n",
       "      <th>Date</th>\n",
       "      <th>WeightKg</th>\n",
       "      <th>WeightPounds</th>\n",
       "      <th>Fat</th>\n",
       "      <th>BMI</th>\n",
       "      <th>IsManualReport</th>\n",
       "      <th>LogId</th>\n",
       "    </tr>\n",
       "  </thead>\n",
       "  <tbody>\n",
       "    <tr>\n",
       "      <th>0</th>\n",
       "      <td>1503960366</td>\n",
       "      <td>5/2/2016 11:59:59 PM</td>\n",
       "      <td>52.599998</td>\n",
       "      <td>115.963147</td>\n",
       "      <td>22.0</td>\n",
       "      <td>22.650000</td>\n",
       "      <td>1</td>\n",
       "      <td>1462233599000</td>\n",
       "    </tr>\n",
       "    <tr>\n",
       "      <th>1</th>\n",
       "      <td>1503960366</td>\n",
       "      <td>5/3/2016 11:59:59 PM</td>\n",
       "      <td>52.599998</td>\n",
       "      <td>115.963147</td>\n",
       "      <td>NaN</td>\n",
       "      <td>22.650000</td>\n",
       "      <td>1</td>\n",
       "      <td>1462319999000</td>\n",
       "    </tr>\n",
       "    <tr>\n",
       "      <th>2</th>\n",
       "      <td>1927972279</td>\n",
       "      <td>4/13/2016 1:08:52 AM</td>\n",
       "      <td>133.500000</td>\n",
       "      <td>294.317120</td>\n",
       "      <td>NaN</td>\n",
       "      <td>47.540001</td>\n",
       "      <td>0</td>\n",
       "      <td>1460509732000</td>\n",
       "    </tr>\n",
       "    <tr>\n",
       "      <th>3</th>\n",
       "      <td>2873212765</td>\n",
       "      <td>4/21/2016 11:59:59 PM</td>\n",
       "      <td>56.700001</td>\n",
       "      <td>125.002104</td>\n",
       "      <td>NaN</td>\n",
       "      <td>21.450001</td>\n",
       "      <td>1</td>\n",
       "      <td>1461283199000</td>\n",
       "    </tr>\n",
       "    <tr>\n",
       "      <th>4</th>\n",
       "      <td>2873212765</td>\n",
       "      <td>5/12/2016 11:59:59 PM</td>\n",
       "      <td>57.299999</td>\n",
       "      <td>126.324875</td>\n",
       "      <td>NaN</td>\n",
       "      <td>21.690001</td>\n",
       "      <td>1</td>\n",
       "      <td>1463097599000</td>\n",
       "    </tr>\n",
       "  </tbody>\n",
       "</table>\n",
       "</div>"
      ],
      "text/plain": [
       "           Id                   Date    WeightKg  WeightPounds   Fat  \\\n",
       "0  1503960366   5/2/2016 11:59:59 PM   52.599998    115.963147  22.0   \n",
       "1  1503960366   5/3/2016 11:59:59 PM   52.599998    115.963147   NaN   \n",
       "2  1927972279   4/13/2016 1:08:52 AM  133.500000    294.317120   NaN   \n",
       "3  2873212765  4/21/2016 11:59:59 PM   56.700001    125.002104   NaN   \n",
       "4  2873212765  5/12/2016 11:59:59 PM   57.299999    126.324875   NaN   \n",
       "\n",
       "         BMI  IsManualReport          LogId  \n",
       "0  22.650000               1  1462233599000  \n",
       "1  22.650000               1  1462319999000  \n",
       "2  47.540001               0  1460509732000  \n",
       "3  21.450001               1  1461283199000  \n",
       "4  21.690001               1  1463097599000  "
      ]
     },
     "execution_count": 41,
     "metadata": {},
     "output_type": "execute_result"
    }
   ],
   "source": [
    "# check for sample data and data size\n",
    "weightLogInfo_df = pd.read_sql(f'SELECT * FROM weightLogInfo_merged', con)\n",
    "print(len(weightLogInfo_df))\n",
    "weightLogInfo_df.head()"
   ]
  },
  {
   "cell_type": "code",
   "execution_count": 43,
   "id": "856d7a4c",
   "metadata": {},
   "outputs": [
    {
     "name": "stdout",
     "output_type": "stream",
     "text": [
      "0\n"
     ]
    }
   ],
   "source": [
    "join_query = \"\"\"\n",
    "SELECT \n",
    "\tA.Id,\n",
    "\tA.ActivityDate,\n",
    "\tA.SedentaryMinutes,\n",
    "    A.Calories,\n",
    "    A.TotalSteps,\n",
    "\tS.TotalMinutesAsleep,\n",
    "    S.TotalTimeInBed\n",
    "FROM \n",
    "\tdailyActivity_merged A\n",
    "INNER JOIN sleepDay_merged S\n",
    "ON \n",
    "\tA.Id = S.Id AND\n",
    "    A.ActivityDate = S.SleepDay;\n",
    "\"\"\"\n",
    "\n",
    "fitbit_df = pd.read_sql(join_query, con)\n",
    "\n",
    "print(len(fitbit_df))"
   ]
  },
  {
   "cell_type": "code",
   "execution_count": 45,
   "id": "6dbda4c9",
   "metadata": {},
   "outputs": [
    {
     "name": "stdout",
     "output_type": "stream",
     "text": [
      "Index(['Id', 'ActivityDate', 'SedentaryMinutes', 'TotalSteps', 'Calories',\n",
      "       'TotalMinutesAsleep', 'TotalTimeInBed'],\n",
      "      dtype='object')\n"
     ]
    },
    {
     "data": {
      "image/png": "[encoded data removed]",
      "text/plain": [
       "<Figure size 1440x2160 with 6 Axes>"
      ]
     },
     "metadata": {
      "needs_background": "light"
     },
     "output_type": "display_data"
    }
   ],
   "source": [
    "#Machine Learning\n",
    "column_to_move = fitbit_df.pop(\"Calories\")\n",
    "fitbit_df.insert(4, \"Calories\", column_to_move)\n",
    "print(fitbit_df.columns)\n",
    "\n",
    "# Define a function to plot the scatterplots of the relationships between\n",
    "# all independent variables and the dependent variable\n",
    "def plot_relationships(df, num_cols):\n",
    "    variables = df.columns\n",
    "   \n",
    "    # assume that the dependent variable is in the last column\n",
    "    dep_var = variables[-1]\n",
    "    ind_var = variables[:-1]\n",
    "    figs = len(dep_var)\n",
    "    num_cols = num_cols\n",
    "    num_rows = round(figs / num_cols) + 1\n",
    "    fig = 1\n",
    "    plt.figure(figsize=(20,30))\n",
    "    # Loop through all independent variables and create the scatter plot\n",
    "    for i in ind_var:\n",
    "        pltfignums = [str(num_rows), str(num_cols), str(fig)]\n",
    "        pltfig = int(''.join(pltfignums))\n",
    "        plt.subplot(pltfig)\n",
    "        plt.scatter(df[i], df[dep_var])\n",
    "        plt.xlabel(str(i))\n",
    "        plt.ylabel(str(dep_var))\n",
    "        fig +=1\n",
    "\n",
    "plot_relationships(fitbit_df,4)"
   ]
  },
  {
   "cell_type": "code",
   "execution_count": null,
   "id": "57bf0c1b",
   "metadata": {},
   "outputs": [],
   "source": [
    "# Plot the correlations as a heatmap\n",
    "plt.figure(figsize=(10, 6))\n",
    "sns.heatmap(fitbit_df.corr(), annot=True, cmap='coolwarm', fmt='.2g')"
   ]
  },
  {
   "cell_type": "code",
   "execution_count": null,
   "id": "d561ee6d",
   "metadata": {},
   "outputs": [],
   "source": [
    "X_train_temp, X_test, y_train_temp, y_test = train_test_split(fitbit_df.iloc[:,:-1],\n",
    "                                                              fitbit_df['Calories'],\n",
    "                                                              test_size=0.2,\n",
    "                                                              random_state=42)\n",
    "\n",
    "X_train, X_valid, y_train, y_valid = train_test_split(X_train_temp, y_train_temp,\n",
    "                                                      test_size=0.25, random_state=42)"
   ]
  },
  {
   "cell_type": "code",
   "execution_count": null,
   "id": "9e4f373e",
   "metadata": {},
   "outputs": [],
   "source": [
    "# scale the data with object range of 0-1\n",
    "scaler = MinMaxScaler()\n",
    "\n",
    "scaler.fit_transform(X_train)\n",
    "\n",
    "scaler.transform(X_valid)\n",
    "scaler.transform(X_test)"
   ]
  },
  {
   "cell_type": "code",
   "execution_count": null,
   "id": "b60c31e3",
   "metadata": {},
   "outputs": [],
   "source": [
    "def scoring(model, test_features, test_labels):\n",
    "    predictions = model.predict(test_features)\n",
    "    mae = mean_absolute_error(test_labels, predictions)\n",
    "    mse = mean_squared_error(test_labels, predictions)\n",
    "    r2 = r2_score(test_labels, predictions)\n",
    "    errors = abs(predictions - test_labels)\n",
    "    mape = 100 * np.mean(errors / test_labels)\n",
    "    accuracy = 100 - mape\n",
    "    print('Model Performance')\n",
    "    print('Mean Absolute Error: {:0.4f}.'.format(mae))\n",
    "    print('Mean Squared Error: {:0.4f}.'.format(mse))\n",
    "    print('R^2 Score = {:0.4f}.'.format(r2))\n",
    "    print('Accuracy = {:0.2f}%.'.format(accuracy))\n",
    "   \n",
    "# Create list of median predictions that has the same length as y_valid\n",
    "baseline_y = [y_train.median()] * len(y_valid)\n",
    "\n",
    "# Compute the relevant scores\n",
    "base_predictions = baseline_y\n",
    "base_mae = mean_absolute_error(y_valid, base_predictions)\n",
    "base_mse = mean_squared_error(y_valid, base_predictions)\n",
    "base_r2 = r2_score(y_valid, base_predictions)\n",
    "base_errors = abs(base_predictions - y_valid)\n",
    "base_mape = 100 * np.mean(base_errors / y_valid)\n",
    "base_accuracy = 100 - base_mape\n",
    "print('Model Performance')\n",
    "print('Mean Absolute Error: {:0.4f}.'.format(base_mae))\n",
    "print('Mean Squared Error: {:0.4f}.'.format(base_mse))\n",
    "print('R^2 Score = {:0.4f}.'.format(base_r2))\n",
    "print('Accuracy = {:0.2f}%.'.format(base_accuracy))"
   ]
  },
  {
   "cell_type": "code",
   "execution_count": null,
   "id": "af872d04",
   "metadata": {},
   "outputs": [],
   "source": [
    "# Define a function that compares the CV perfromance of a set of predetrmined models\n",
    "def cv_comparison(models, X, y, cv):\n",
    "    cv_accuracies = pd.DataFrame()\n",
    "    maes = []\n",
    "    mses = []\n",
    "    r2s = []\n",
    "    accs = []\n",
    "   \n",
    "    # Loop through the models, run a CV, add the average scores to the DataFrame and the scores of all CVs to the list\n",
    "    for model in models:\n",
    "        mae = -np.round(cross_val_score(model, X, y, scoring='neg_mean_absolute_error', cv=cv), 4)\n",
    "        maes.append(mae)\n",
    "        mae_avg = round(mae.mean(), 4)\n",
    "        mse = -np.round(cross_val_score(model, X, y, scoring='neg_mean_squared_error', cv=cv), 4)\n",
    "        mses.append(mse)\n",
    "        mse_avg = round(mse.mean(), 4)\n",
    "        r2 = np.round(cross_val_score(model, X, y, scoring='r2', cv=cv), 4)\n",
    "        r2s.append(r2)\n",
    "        r2_avg = round(r2.mean(), 4)\n",
    "        acc = np.round((100 - (100 * (mae * len(X))) / sum(y)), 4)\n",
    "        accs.append(acc)\n",
    "        acc_avg = round(acc.mean(), 4)\n",
    "        cv_accuracies[str(model)] = [mae_avg, mse_avg, r2_avg, acc_avg]\n",
    "    cv_accuracies.index = ['Mean Absolute Error', 'Mean Squared Error', 'R^2', 'Accuracy']\n",
    "    return cv_accuracies, maes, mses, r2s, accs"
   ]
  },
  {
   "cell_type": "code",
   "execution_count": null,
   "id": "a00addbc",
   "metadata": {},
   "outputs": [],
   "source": [
    "# Set hyperparameters possibilities for tuning Random Forest\n",
    "rf_n_estimators = [int(x) for x in np.linspace(200, 1000, 5)]\n",
    "rf_max_depth = [int(x) for x in np.linspace(5, 55, 11)]\n",
    "rf_max_depth.append(None)\n",
    "rf_max_features = ['auto', 'sqrt', 'log2']\n",
    "rf_criterion = ['mse', 'mae']\n",
    "rf_min_samples_split = [int(x) for x in np.linspace(2, 10, 9)]\n",
    "rf_min_impurity_decrease = [0.0, 0.05, 0.1]\n",
    "rf_bootstrap = [True, False]\n",
    "\n",
    "# Create the grid\n",
    "rf_grid = {'n_estimators': rf_n_estimators,\n",
    "               'max_depth': rf_max_depth,\n",
    "               'max_features': rf_max_features,\n",
    "               'criterion': rf_criterion,\n",
    "               'min_samples_split': rf_min_samples_split,\n",
    "               'min_impurity_decrease': rf_min_impurity_decrease,\n",
    "               'bootstrap': rf_bootstrap}\n",
    "\n",
    "rf_grid"
   ]
  },
  {
   "cell_type": "code",
   "execution_count": null,
   "id": "e407a96a",
   "metadata": {},
   "outputs": [],
   "source": [
    "# Tune the Random Forest Model\n",
    "rf_base = rf_sk()\n",
    "rf_random = RandomizedSearchCV(estimator = rf_base, param_distributions = rf_grid,\n",
    "                               n_iter = 200, cv = 3, verbose = 2, random_state = 42,\n",
    "                               n_jobs = -1)\n",
    "\n",
    "rf_random.fit(X_train_temp, y_train_temp)\n",
    "\n",
    "rf_random.best_estimator_"
   ]
  },
  {
   "cell_type": "code",
   "execution_count": 50,
   "id": "41bd64cc",
   "metadata": {},
   "outputs": [
    {
     "name": "stdout",
     "output_type": "stream",
     "text": [
      "Total number of rows: 413\n",
      "root\n",
      " |-- SedentaryMinutes: integer (nullable = true)\n",
      " |-- TotalSteps: integer (nullable = true)\n",
      " |-- TotalMinutesAsleep: integer (nullable = true)\n",
      " |-- TotalTimeInBed: integer (nullable = true)\n",
      " |-- Calories: integer (nullable = true)\n",
      "\n",
      "+----------------+----------+------------------+--------------+--------+\n",
      "|SedentaryMinutes|TotalSteps|TotalMinutesAsleep|TotalTimeInBed|Calories|\n",
      "+----------------+----------+------------------+--------------+--------+\n",
      "|             728|     13162|               327|           346|    1985|\n",
      "|             776|     10735|               384|           407|    1797|\n",
      "|             726|      9762|               412|           442|    1745|\n",
      "|             773|     12669|               340|           367|    1863|\n",
      "|             539|      9705|               700|           712|    1728|\n",
      "|             775|     15506|               304|           320|    2035|\n",
      "|             818|     10544|               360|           377|    1786|\n",
      "|             838|      9819|               325|           364|    1775|\n",
      "|             732|     14371|               361|           384|    1949|\n",
      "|             709|     10039|               430|           449|    1788|\n",
      "|             814|     15355|               277|           323|    2013|\n",
      "|             833|     13755|               245|           274|    1970|\n",
      "|             782|     13154|               366|           393|    1898|\n",
      "|             815|     11181|               341|           354|    1837|\n",
      "|             712|     14673|               404|           425|    1947|\n",
      "|             730|     10602|               369|           396|    1820|\n",
      "|             798|     14727|               277|           309|    2004|\n",
      "|             816|     15103|               273|           296|    1990|\n",
      "|             857|     14070|               247|           264|    1959|\n",
      "|             754|     12159|               334|           367|    1896|\n",
      "+----------------+----------+------------------+--------------+--------+\n",
      "only showing top 20 rows\n",
      "\n"
     ]
    }
   ],
   "source": [
    "#fitbit_df.to_csv('C://Users/Test/Downloadst/fitbit_df.csv', index=False)\n",
    "\n",
    "CSV_PATH = \"C://Users/Test/Downloads/fitbit_df.csv\"\n",
    "APP_NAME = \"Random Forest\"# U can choose the APP name\n",
    "SPARK_URL = \"local[*]\"\n",
    "RANDOM_SEED = 13579\n",
    "TRAINING_DATA_RATIO = 0.7\n",
    "RF_NUM_TREES = 3\n",
    "RF_MAX_DEPTH = 4\n",
    "RF_NUM_BINS = 32\n",
    "\n",
    "spark = SparkSession.builder \\\n",
    "    .appName(APP_NAME) \\\n",
    "    .master(SPARK_URL) \\\n",
    "    .getOrCreate()\n",
    "\n",
    "df = spark.read \\\n",
    "    .options(header = \"true\", inferschema = \"true\") \\\n",
    "    .csv(CSV_PATH)\n",
    "\n",
    "print(\"Total number of rows: %d\" % df.count())\n",
    "\n",
    "df.printSchema()\n",
    "\n",
    "df.show()"
   ]
  },
  {
   "cell_type": "code",
   "execution_count": 51,
   "id": "d840aa92",
   "metadata": {},
   "outputs": [
    {
     "name": "stdout",
     "output_type": "stream",
     "text": [
      "+--------------------+--------+\n",
      "|            features|Calories|\n",
      "+--------------------+--------+\n",
      "|[728.0,13162.0,32...|    1985|\n",
      "|[776.0,10735.0,38...|    1797|\n",
      "|[726.0,9762.0,412...|    1745|\n",
      "|[773.0,12669.0,34...|    1863|\n",
      "|[539.0,9705.0,700...|    1728|\n",
      "|[775.0,15506.0,30...|    2035|\n",
      "|[818.0,10544.0,36...|    1786|\n",
      "|[838.0,9819.0,325...|    1775|\n",
      "|[732.0,14371.0,36...|    1949|\n",
      "|[709.0,10039.0,43...|    1788|\n",
      "|[814.0,15355.0,27...|    2013|\n",
      "|[833.0,13755.0,24...|    1970|\n",
      "|[782.0,13154.0,36...|    1898|\n",
      "|[815.0,11181.0,34...|    1837|\n",
      "|[712.0,14673.0,40...|    1947|\n",
      "|[730.0,10602.0,36...|    1820|\n",
      "|[798.0,14727.0,27...|    2004|\n",
      "|[816.0,15103.0,27...|    1990|\n",
      "|[857.0,14070.0,24...|    1959|\n",
      "|[754.0,12159.0,33...|    1896|\n",
      "+--------------------+--------+\n",
      "only showing top 20 rows\n",
      "\n",
      "root\n",
      " |-- features: vector (nullable = true)\n",
      " |-- Calories: integer (nullable = true)\n",
      "\n"
     ]
    }
   ],
   "source": [
    "# create features\n",
    "featureCols = ['SedentaryMinutes', 'TotalSteps', 'TotalMinutesAsleep',\n",
    "       'TotalTimeInBed']\n",
    "assembler = VectorAssembler(inputCols=featureCols, outputCol=\"features\")\n",
    "df = assembler.transform(df)\n",
    "spark_df = df.select(['features', 'Calories'])\n",
    "\n",
    "spark_df.show()\n",
    "spark_df.printSchema()"
   ]
  },
  {
   "cell_type": "code",
   "execution_count": 52,
   "id": "8c34a392",
   "metadata": {},
   "outputs": [
    {
     "name": "stdout",
     "output_type": "stream",
     "text": [
      "Number of training set rows: 354\n",
      "Number of test set rows: 59\n"
     ]
    }
   ],
   "source": [
    "train, test = spark_df.randomSplit([0.8, 0.2], seed = 42)\n",
    "print(\"Number of training set rows: %d\" % train.count())\n",
    "print(\"Number of test set rows: %d\" % test.count())"
   ]
  },
  {
   "cell_type": "code",
   "execution_count": 53,
   "id": "720e054a",
   "metadata": {},
   "outputs": [
    {
     "name": "stdout",
     "output_type": "stream",
     "text": [
      "+------------------+--------+--------------------+\n",
      "|        prediction|Calories|            features|\n",
      "+------------------+--------+--------------------+\n",
      "|1681.3416424791478|    1248|[125.0,4477.0,492...|\n",
      "|1061.9759712509713|    1240|[241.0,2752.0,404...|\n",
      "| 2341.857322839639|    1364|[330.0,8891.0,456...|\n",
      "|2379.0659337665666|    2606|[425.0,11135.0,46...|\n",
      "| 2434.780601923442|    2469|[456.0,7336.0,498...|\n",
      "+------------------+--------+--------------------+\n",
      "only showing top 5 rows\n",
      "\n",
      "Accuracy = 77.2448 %\n"
     ]
    }
   ],
   "source": [
    "rf = rf_sp(featuresCol=\"features\", labelCol='Calories')\n",
    "\n",
    "model = rf.fit(train)\n",
    "\n",
    "predictions = model.transform(test)\n",
    "\n",
    "predictions.select(\"prediction\", \"Calories\", \"features\").show(5)\n",
    "\n",
    "preds = predictions.select('prediction').toPandas()['prediction']\n",
    "test_labels = predictions.select('Calories').toPandas()['Calories']\n",
    "\n",
    "errors = abs(preds - test_labels)\n",
    "mape = 100 * np.mean(errors / test_labels)\n",
    "accuracy = round(100 - mape, 4)\n",
    "print(f'Accuracy = {accuracy} %')"
   ]
  },
  {
   "cell_type": "code",
   "execution_count": null,
   "id": "4e598941",
   "metadata": {},
   "outputs": [],
   "source": []
  },
  {
   "cell_type": "code",
   "execution_count": null,
   "id": "543f5f39",
   "metadata": {},
   "outputs": [],
   "source": []
  },
  {
   "cell_type": "code",
   "execution_count": null,
   "id": "264548d7",
   "metadata": {},
   "outputs": [],
   "source": []
  },
  {
   "cell_type": "code",
   "execution_count": null,
   "id": "3b9afcca",
   "metadata": {},
   "outputs": [],
   "source": []
  },
  {
   "cell_type": "code",
   "execution_count": null,
   "id": "24169558",
   "metadata": {},
   "outputs": [],
   "source": []
  },
  {
   "cell_type": "code",
   "execution_count": null,
   "id": "44da34b2",
   "metadata": {},
   "outputs": [],
   "source": []
  }
 ],
 "metadata": {
  "kernelspec": {
   "display_name": "Python 3",
   "language": "python",
   "name": "python3"
  },
  "language_info": {
   "codemirror_mode": {
    "name": "ipython",
    "version": 3
   },
   "file_extension": ".py",
   "mimetype": "text/x-python",
   "name": "python",
   "nbconvert_exporter": "python",
   "pygments_lexer": "ipython3",
   "version": "3.8.8"
  }
 },
 "nbformat": 4,
 "nbformat_minor": 5
}
